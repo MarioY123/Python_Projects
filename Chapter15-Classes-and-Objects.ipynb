{
 "cells": [
  {
   "cell_type": "markdown",
   "metadata": {},
   "source": [
    "### At this point you know how to use functions to organize code and built-in types to organize data. The next step is to learn “object-oriented programming”, which uses programmer defined types to organize both code and data. Object-oriented programming is a big topic; it will take a few chapters to get there."
   ]
  },
  {
   "cell_type": "markdown",
   "metadata": {},
   "source": [
    "## 15.1 Programmer-defined types\n",
    "\n",
    "We have used many of Python’s built-in types; now we are going to define a new type. As an example, we will create a type called **Point** that represents a point in two-dimensional space.\n",
    "\n",
    "In mathematical notation, points are often written in parentheses with a comma separating the coordinates. For example, (0, 0) represents the origin, and (x, y) represents the point x units to the right and y units up from the origin.\n",
    "\n",
    "Creating a new type is more complicated than the other options (such as storing the coordinates separately in two variables, x and y) but it has advantages that will be apparent soon.\n",
    "\n",
    "A programmer-defined type is also called a **class**. A class definition looks like this:"
   ]
  },
  {
   "cell_type": "code",
   "execution_count": 2,
   "metadata": {
    "collapsed": false
   },
   "outputs": [
    {
     "data": {
      "text/plain": [
       "__main__.Point"
      ]
     },
     "execution_count": 2,
     "metadata": {},
     "output_type": "execute_result"
    }
   ],
   "source": [
    "class Point:\n",
    "    \"\"\"Represent a point in 2-D space.\"\"\" #We will later define variables and methods inside this class\n",
    "    \n",
    "Point #Defining a class creates a class object; b/c Point is defined at the top level, its “full name” is __main__.Point"
   ]
  },
  {
   "cell_type": "markdown",
   "metadata": {},
   "source": [
    "### The class object is like a factory for creating objects. To create a Point, you call Point as if it were a function."
   ]
  },
  {
   "cell_type": "code",
   "execution_count": 3,
   "metadata": {
    "collapsed": false
   },
   "outputs": [
    {
     "data": {
      "text/plain": [
       "<__main__.Point at 0x105e8c588>"
      ]
     },
     "execution_count": 3,
     "metadata": {},
     "output_type": "execute_result"
    }
   ],
   "source": [
    "blank = Point()\n",
    "blank #The return value is a reference to a Point object, which we assign to blank"
   ]
  },
  {
   "cell_type": "markdown",
   "metadata": {},
   "source": [
    "### Creating a new object is called instantiation, and the object is an instance of the class.\n",
    "\n",
    "When you print an instance, Python tells you what class it belongs to and where it is stored\n",
    "in memory (the prefix **0X** means that the following number is in hexadecimal).\n",
    "\n",
    "Every object is an instance of some class, so “object” and “instance” are interchangeable. But in this chapter I use “instance” to indicate that I am talking about a programmer-defined type."
   ]
  },
  {
   "cell_type": "markdown",
   "metadata": {},
   "source": [
    "## 15.2 Attributes\n",
    "\n",
    "You can assign values to an **instance** using dot notation\n",
    "\n",
    "This syntax is similar to the syntax for selecting a variable from a module, such as **math.pi** In this case, though, we are assigning values to named elements of an object. These elements are called **attributes**."
   ]
  },
  {
   "cell_type": "code",
   "execution_count": 4,
   "metadata": {
    "collapsed": true
   },
   "outputs": [],
   "source": [
    "blank.x = 3.0\n",
    "blank.y = 4.0"
   ]
  },
  {
   "cell_type": "markdown",
   "metadata": {},
   "source": [
    "The variable **blank** refers to a Point object, which contains two attributes. Each attribute refers to a floating-point number.\n",
    "\n",
    "You can read the value of an attribute using the same syntax:"
   ]
  },
  {
   "cell_type": "code",
   "execution_count": 6,
   "metadata": {
    "collapsed": false,
    "scrolled": true
   },
   "outputs": [
    {
     "name": "stdout",
     "output_type": "stream",
     "text": [
      "3.0\n",
      "4.0\n"
     ]
    }
   ],
   "source": [
    "print(blank.x)\n",
    "print(blank.y)"
   ]
  },
  {
   "cell_type": "markdown",
   "metadata": {},
   "source": [
    "The expression **blank.x** means, “Go to the object **blank** refers to and get the value of **x**.” In\n",
    "the example, we assign that value to a variable named **x**. There is no conflict between the\n",
    "variable **x** and the attribute **x**.\n",
    "\n",
    "You can use dot notation as part of any expression. For example:"
   ]
  },
  {
   "cell_type": "code",
   "execution_count": 17,
   "metadata": {
    "collapsed": false
   },
   "outputs": [
    {
     "name": "stdout",
     "output_type": "stream",
     "text": [
      "(3, 4)\n"
     ]
    }
   ],
   "source": [
    "print(\"(%g, %g)\" %(blank.x, blank.y))"
   ]
  },
  {
   "cell_type": "code",
   "execution_count": 19,
   "metadata": {
    "collapsed": false
   },
   "outputs": [
    {
     "data": {
      "text/plain": [
       "5.0"
      ]
     },
     "execution_count": 19,
     "metadata": {},
     "output_type": "execute_result"
    }
   ],
   "source": [
    "import math\n",
    "\n",
    "distance = math.sqrt(blank.x**2 + blank.y**2)\n",
    "distance"
   ]
  },
  {
   "cell_type": "markdown",
   "metadata": {},
   "source": [
    "#### You can pass an instance as an argument in the usual way. For example:"
   ]
  },
  {
   "cell_type": "code",
   "execution_count": 20,
   "metadata": {
    "collapsed": false
   },
   "outputs": [
    {
     "name": "stdout",
     "output_type": "stream",
     "text": [
      "(3, 4)\n"
     ]
    }
   ],
   "source": [
    "def print_point(p):\n",
    "    print(\"(%g, %g)\" %(p.x, p.y)) # \"p\" is a placeholder\n",
    "    \n",
    "print_point(blank) # \"blank\" takes the place of \"p\" in the function above"
   ]
  },
  {
   "cell_type": "markdown",
   "metadata": {},
   "source": [
    "## 15.3 Rectangles\n",
    "\n",
    "Sometimes it is obvious what the attributes of an object should be, but other times you have to make decisions. For example, imagine you are designing a class to represent rectangles.\n",
    "\n",
    "What attributes would you use to specify the location and size of a rectangle? You can ig-\n",
    "nore angle; to keep things simple, assume that the rectangle is either vertical or horizontal.\n",
    "\n",
    "\n",
    "There are at least two possibilities:\n",
    "\n",
    "1. You could specify one corner of the rectangle (or the center), the width, and the height.\n",
    "2. You could specify two opposing corners.\n",
    "\n",
    "At this point it is hard to say whether either is better than the other, so we’ll implement the\n",
    "first one, just as an example."
   ]
  },
  {
   "cell_type": "code",
   "execution_count": 21,
   "metadata": {
    "collapsed": true
   },
   "outputs": [],
   "source": [
    "class Rectangle:\n",
    "    \"\"\"Represents a rectangle.\n",
    "    \n",
    "    attributes: width, height, corner (Point object)\n",
    "    \"\"\""
   ]
  },
  {
   "cell_type": "code",
   "execution_count": 26,
   "metadata": {
    "collapsed": true
   },
   "outputs": [],
   "source": [
    "#To represent a rectangle, you have to instantiate a Rectangle object and assign values to the attributes:\n",
    "\n",
    "box = Rectangle()\n",
    "\n",
    "box.width = 100.0\n",
    "box.height = 200.0\n",
    "\n",
    "box.corner = Point()\n",
    "box.corner.x = 0.0  #box is an object; corner and x and y are attributes\n",
    "box.corner.y = 0.0\n"
   ]
  },
  {
   "cell_type": "markdown",
   "metadata": {},
   "source": [
    "An onject that is an attribute of another object is **embedded**. For example, box.corner"
   ]
  },
  {
   "cell_type": "markdown",
   "metadata": {},
   "source": [
    "## 15.4 Instances as return values\n",
    "\n",
    "Functions can return instances. For example, **find_center** takes a **Rectangle** as an argument and returns a **Point** that contains the coordinates of the center of the **Rectangle**:"
   ]
  },
  {
   "cell_type": "code",
   "execution_count": 33,
   "metadata": {
    "collapsed": false
   },
   "outputs": [
    {
     "name": "stdout",
     "output_type": "stream",
     "text": [
      "(50, 100)\n"
     ]
    }
   ],
   "source": [
    "def find_center(rect):\n",
    "    p = Point()\n",
    "    p.x = rect.corner.x + rect.width/2\n",
    "    p.y = rect.corner.y + rect.height/2\n",
    "    return p                                 #return the \"p\" instance, which contains p.x nd p.y (the center of the rect) \n",
    "\n",
    "center = find_center(box) #returns object location in memory and what class it belongs too\n",
    "print_point(center)       #Prints the center coordinates"
   ]
  },
  {
   "cell_type": "markdown",
   "metadata": {},
   "source": [
    "## 15.5 Objects are mutable\n",
    "\n",
    "You can change the state of an object by making an assignment to one of its attributes. For example, to change the size of a rectangle without changing its position, you can modify the values of width and height:"
   ]
  },
  {
   "cell_type": "code",
   "execution_count": 34,
   "metadata": {
    "collapsed": true
   },
   "outputs": [],
   "source": [
    "box.width = box.width + 50\n",
    "box.height = box.height + 100"
   ]
  },
  {
   "cell_type": "markdown",
   "metadata": {},
   "source": [
    "You can also write functions that modify objects. For example, **grow_rectangle** takes a Rectangle object and two numbers, **dwidth** and **dheight**, and adds the numbers to the width and height of the rectangle:"
   ]
  },
  {
   "cell_type": "code",
   "execution_count": 41,
   "metadata": {
    "collapsed": false
   },
   "outputs": [
    {
     "name": "stdout",
     "output_type": "stream",
     "text": [
      "The width is now: 450 \n",
      "The height is now: 700\n"
     ]
    }
   ],
   "source": [
    "def grow_rectangle(rect, dwidth, dheight):\n",
    "    rect.width += dwidth\n",
    "    rect.height += dheight\n",
    "    print(\"\"\"The width is now: %g \\nThe height is now: %g\"\"\" %(rect.width, rect.height))\n",
    "    \n",
    "box.width = 150.0\n",
    "box.height = 300.0\n",
    "\n",
    "grow_rectangle(box, 300, 400)"
   ]
  },
  {
   "cell_type": "markdown",
   "metadata": {},
   "source": [
    "## 15.6 Copying\n",
    "\n",
    "Aliasing (e.g rect is an alias for box) can make a program difficult to read because changes in one place might have unexpected effects in another place. It is hard to keep track of all the variables that might refer to a given object.\n",
    "\n",
    "Copying an object is often an alternative to aliasing. The **copy** module contains a function\n",
    "called **copy** that can duplicate any object:"
   ]
  },
  {
   "cell_type": "code",
   "execution_count": 51,
   "metadata": {
    "collapsed": true
   },
   "outputs": [],
   "source": [
    "p1 = Point()\n",
    "p1.x = 3.0\n",
    "p1.y = 4.0\n",
    "\n",
    "import copy\n",
    "\n",
    "p2 = copy.copy(p1)"
   ]
  },
  {
   "cell_type": "code",
   "execution_count": 54,
   "metadata": {
    "collapsed": false
   },
   "outputs": [
    {
     "name": "stdout",
     "output_type": "stream",
     "text": [
      "(3, 4)\n",
      "(3, 4)\n"
     ]
    }
   ],
   "source": [
    "#p1 and p2 contain the same data, but are not the same Point\n",
    "\n",
    "p1 is p2 #Returns False, which indicates the p1 and p2 are NOT the same OBJECT\n",
    "p1 == p2 #Note: \"==\" acts like \"is\", checking for object identity and NOT object equivalence.\n",
    "\n",
    "\n",
    "print_point(p1)#Returns the same values for p1 and p2\n",
    "print_point(p2)"
   ]
  },
  {
   "cell_type": "markdown",
   "metadata": {},
   "source": [
    "If you use **copy.copy** to duplicate a Rectangle, you will find that it copies the Rectangle object but not the embedded Point (e.g box).\n",
    "\n",
    "This operation is called a **shallow copy** because it copies the object and any references it contains, but not the embedded objects.\n"
   ]
  },
  {
   "cell_type": "code",
   "execution_count": 63,
   "metadata": {
    "collapsed": false
   },
   "outputs": [
    {
     "data": {
      "text/plain": [
       "True"
      ]
     },
     "execution_count": 63,
     "metadata": {},
     "output_type": "execute_result"
    }
   ],
   "source": [
    "#You would have to do this:\n",
    "box2 = copy.copy(box)\n",
    "\n",
    "box2 is box # returns False\n",
    "box2.corner is box.corner # returns True"
   ]
  },
  {
   "cell_type": "markdown",
   "metadata": {},
   "source": [
    "Fortunately, the copy module provides a method named **deepcopy** that copies not only the\n",
    "object but also the objects it refers to, and the objects they refer to, and so on. You will not\n",
    "be surprised to learn that this operation is called a **deep copy**."
   ]
  },
  {
   "cell_type": "code",
   "execution_count": 56,
   "metadata": {
    "collapsed": true
   },
   "outputs": [],
   "source": [
    "#deepcopy\n",
    "box3 = copy.deepcopy(box)"
   ]
  },
  {
   "cell_type": "code",
   "execution_count": 60,
   "metadata": {
    "collapsed": false
   },
   "outputs": [
    {
     "data": {
      "text/plain": [
       "False"
      ]
     },
     "execution_count": 60,
     "metadata": {},
     "output_type": "execute_result"
    }
   ],
   "source": [
    "box3 is box #returns False\n",
    "box3.corner is box.corner #returns False (Why does this return false)\n",
    "\n",
    "#box3 and box are completely separate objects"
   ]
  },
  {
   "cell_type": "code",
   "execution_count": 64,
   "metadata": {
    "collapsed": false
   },
   "outputs": [
    {
     "name": "stdout",
     "output_type": "stream",
     "text": [
      "/Users/dicom/Jupyter_Projects\r\n"
     ]
    }
   ],
   "source": [
    "!pwd\n"
   ]
  },
  {
   "cell_type": "code",
   "execution_count": null,
   "metadata": {
    "collapsed": true
   },
   "outputs": [],
   "source": []
  }
 ],
 "metadata": {
  "kernelspec": {
   "display_name": "Python 3",
   "language": "python",
   "name": "python3"
  },
  "language_info": {
   "codemirror_mode": {
    "name": "ipython",
    "version": 3
   },
   "file_extension": ".py",
   "mimetype": "text/x-python",
   "name": "python",
   "nbconvert_exporter": "python",
   "pygments_lexer": "ipython3",
   "version": "3.6.0"
  }
 },
 "nbformat": 4,
 "nbformat_minor": 2
}
