{
 "cells": [
  {
   "cell_type": "markdown",
   "metadata": {},
   "source": [
    "## 14.7 Pickling\n"
   ]
  },
  {
   "cell_type": "markdown",
   "metadata": {},
   "source": [
    "### A limitation of dbm is that the keys and values have to be strings or bytes. If you try to use any other type, you get an error.\n",
    "\n",
    "### The pickle module can help. It translates almost any type of object into a string suitable for storage in a database, and then translates strings back into objects.\n",
    "\n",
    "### pickle.dumps takes an object as a parameter and returns a string representation (dumps is short for “dump string”):"
   ]
  },
  {
   "cell_type": "code",
   "execution_count": 2,
   "metadata": {
    "collapsed": false
   },
   "outputs": [
    {
     "data": {
      "text/plain": [
       "b'\\x80\\x03]q\\x00(K\\x01K\\x02K\\x03e.'"
      ]
     },
     "execution_count": 2,
     "metadata": {},
     "output_type": "execute_result"
    }
   ],
   "source": [
    "import pickle\n",
    "\n",
    "This_List = [1,2,3]\n",
    "pickle.dumps(This_List)  #Returns string representation (easy for the computer to read)"
   ]
  },
  {
   "cell_type": "code",
   "execution_count": 4,
   "metadata": {
    "collapsed": false
   },
   "outputs": [
    {
     "data": {
      "text/plain": [
       "[1, 2, 3]"
      ]
     },
     "execution_count": 4,
     "metadata": {},
     "output_type": "execute_result"
    }
   ],
   "source": [
    "#The pickle load function\n",
    "\n",
    "copy = pickle.dumps(This_List)\n",
    "This_List2 = pickle.loads(copy)\n",
    "This_List2"
   ]
  },
  {
   "cell_type": "code",
   "execution_count": 7,
   "metadata": {
    "collapsed": false
   },
   "outputs": [
    {
     "name": "stdout",
     "output_type": "stream",
     "text": [
      "True\n",
      "False\n"
     ]
    }
   ],
   "source": [
    "# Although the new object has the same value as the old, it is not (in general) the same object:\n",
    "\n",
    "print(This_List == This_List2) #Returns True (Same Value)\n",
    "print(This_List is This_List2) #Returns False (Not the same Object)"
   ]
  },
  {
   "cell_type": "markdown",
   "metadata": {},
   "source": [
    "## 14.8 Pipes\n",
    "\n",
    "### Most operating systems provide a command-line interface, also known as a shell. Shells usually provide commands to navigate the file system and launch applications. For example, in Windows you can change directories with \"cd\", display the contents of a directory with \"dir\", and launch a web browser by typing (for example) firefox.\n",
    "\n",
    "### Any program that you can launch from the shell can also be launched from Python using a pipe object, which represents a running program.\n",
    "\n",
    "### Use os.popen to view the current directory"
   ]
  },
  {
   "cell_type": "code",
   "execution_count": 24,
   "metadata": {
    "collapsed": true
   },
   "outputs": [],
   "source": [
    "import os\n",
    "\n",
    "cmd = 'dir'\n",
    "fp = os.popen(cmd)\n",
    "res = fp.read() # .read() displays all contents, while .readline() gives one line at a time  "
   ]
  },
  {
   "cell_type": "code",
   "execution_count": 32,
   "metadata": {
    "collapsed": false
   },
   "outputs": [
    {
     "name": "stdout",
     "output_type": "stream",
     "text": [
      "None\n"
     ]
    }
   ],
   "source": [
    "# When you are done, close the pipe like a file:\n",
    "\n",
    "closing = fp.close()\n",
    "print(closing) #Returns None (No Errors Occured)"
   ]
  },
  {
   "cell_type": "code",
   "execution_count": 34,
   "metadata": {
    "collapsed": true
   },
   "outputs": [],
   "source": [
    "#Opening Chrome in Windows\n",
    "\n",
    "import os\n",
    "\n",
    "my_command = 'start chrome \"reddit.com\" ' #You can change the website name here \n",
    "do_this_python = os.popen(my_command)"
   ]
  },
  {
   "cell_type": "markdown",
   "metadata": {},
   "source": [
    "## 14.9 Writing Modules\n",
    "\n",
    "### Any file that contains Python code can be imported as a module. For example, suppose you have a file named \"wc.py\" with the following code:"
   ]
  },
  {
   "cell_type": "code",
   "execution_count": 39,
   "metadata": {
    "collapsed": false,
    "scrolled": true
   },
   "outputs": [
    {
     "name": "stdout",
     "output_type": "stream",
     "text": [
      "7\n"
     ]
    }
   ],
   "source": [
    "def linecount(filename):\n",
    "    count = 0\n",
    "    for line in open(filename):\n",
    "        count += 1 \n",
    "    return count\n",
    "\n",
    "print(linecount('wc.py')) #Note: You actually need a wc.py saved for this to work"
   ]
  },
  {
   "cell_type": "code",
   "execution_count": 40,
   "metadata": {
    "collapsed": false
   },
   "outputs": [
    {
     "name": "stdout",
     "output_type": "stream",
     "text": [
      "7\n"
     ]
    },
    {
     "data": {
      "text/plain": [
       "<module 'wc' from 'C:\\\\Users\\\\Mario Y\\\\Jupyter_Projects\\\\Tutorials\\\\ThinkPython\\\\wc.py'>"
      ]
     },
     "execution_count": 40,
     "metadata": {},
     "output_type": "execute_result"
    }
   ],
   "source": [
    "# Now you can import \"wc\"\n",
    "\n",
    "import wc\n",
    "\n",
    "wc #This is a module object"
   ]
  },
  {
   "cell_type": "markdown",
   "metadata": {},
   "source": [
    "### Programs that will be imported as modules often use the following idiom:"
   ]
  },
  {
   "cell_type": "code",
   "execution_count": 41,
   "metadata": {
    "collapsed": false
   },
   "outputs": [
    {
     "name": "stdout",
     "output_type": "stream",
     "text": [
      "7\n"
     ]
    }
   ],
   "source": [
    "if __name__ == '__main__': \n",
    "    print(linecount('wc.py'))\n",
    "\n",
    "# __name__ is a built-in variable that is set when the program starts. \n",
    "# If the program is running as a script, __name__ has the value as '__main__'; \n",
    "# In that case, the code runs normally. \n",
    "# Otherwise, if the module is being imported, the test code is skipped."
   ]
  },
  {
   "cell_type": "markdown",
   "metadata": {},
   "source": [
    "### If you run wc.py, the value of __name__ returns '__main__'\n",
    "\n",
    "### if you import wc from a different script, the value of __name__ returns the name of the module (It returns \"wc\" in this example)\n"
   ]
  },
  {
   "cell_type": "markdown",
   "metadata": {},
   "source": [
    "### Here is a nice video that better explains the concept:\n",
    "\n",
    "https://www.youtube.com/watch?v=Huz6bS0uLm4"
   ]
  },
  {
   "cell_type": "code",
   "execution_count": null,
   "metadata": {
    "collapsed": true
   },
   "outputs": [],
   "source": []
  }
 ],
 "metadata": {
  "anaconda-cloud": {},
  "kernelspec": {
   "display_name": "Python [conda root]",
   "language": "python",
   "name": "conda-root-py"
  },
  "language_info": {
   "codemirror_mode": {
    "name": "ipython",
    "version": 3
   },
   "file_extension": ".py",
   "mimetype": "text/x-python",
   "name": "python",
   "nbconvert_exporter": "python",
   "pygments_lexer": "ipython3",
   "version": "3.5.2"
  }
 },
 "nbformat": 4,
 "nbformat_minor": 1
}
